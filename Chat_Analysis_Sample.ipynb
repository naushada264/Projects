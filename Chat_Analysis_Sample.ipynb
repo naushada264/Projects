{
 "cells": [
  {
   "cell_type": "code",
   "execution_count": null,
   "metadata": {},
   "outputs": [],
   "source": [
    "import re\n",
    "import pandas as pd\n",
    "import matplotlib.pyplot as plt\n",
    "import emoji\n",
    "import json\n",
    "from PIL import Image\n",
    "import numpy as np\n",
    "from wordcloud import WordCloud,STOPWORDS\n",
    "\n",
    "def startsWithDate(s):\n",
    "    pattern = '^(([0-9]|(0)[0-9])|((1)[0-2]))(\\/)([0-9]|[0-2][0-9]|(3)[0-1])(\\/)(\\d{2}|\\d{4}), (([0-9]:[0-9][0-9])|(1)[0-2]:[0-9][0-9]) (\\w)(\\w) - '\n",
    "    result = re.match(pattern, s)\n",
    "    if result:\n",
    "        return True\n",
    "    return False\n",
    "\n",
    "def startsWithAuthor(s):\n",
    "    patterns = [\n",
    "        '([\\w]+):',                        # First Name\n",
    "        '([\\w]+[\\s]+[\\w]+):',              # First Name + Last Name\n",
    "        '([\\w]+[\\s]+[\\w]+[\\s]+[\\w]+):',    # First Name + Middle Name + Last Name\n",
    "        '([+]\\d{2} \\d{5} \\d{5}):',         # Mobile Number (India)\n",
    "    ]\n",
    "    pattern = '^' + '|'.join(patterns)\n",
    "    result = re.match(pattern, s)\n",
    "    if result:\n",
    "        return True\n",
    "    return False\n",
    "\n",
    "def getDataPoint(line):\n",
    "    # line = 12/13/19, 12:52 AM - Nirbhay Singh: Late ho gya tha metro nhi mili aur cab k 600 lg rhee\n",
    "    \n",
    "    splitLine = line.split(' - ') # splitLine = ['12/13/19, 12:52 AM', 'Nirbhay Singh: Late ho gya tha metro nhi mili aur cab k 600 lg rhee']\n",
    "    \n",
    "    dateTime = splitLine[0] # dateTime = '12/13/19, 12:52 AM'\n",
    "    \n",
    "    date, time = dateTime.split(', ') # date = '12/13/19'; time = '12:52 AM'\n",
    "    \n",
    "    message = ' '.join(splitLine[1:]) # message = 'Nirbhay Singh: Late ho gya tha metro nhi mili aur cab k 600 lg rhee'\n",
    "    \n",
    "    if startsWithAuthor(message): # True\n",
    "        splitMessage = message.split(': ') # splitMessage = ['Nirbhay Singh', 'Late ho gya tha metro nhi mili aur cab k 600 lg rhee']\n",
    "        author = splitMessage[0] # author = 'Nirbhay Singh'\n",
    "        message = ' '.join(splitMessage[1:]) # message = 'Late ho gya tha metro nhi mili aur cab k 600 lg rhee'\n",
    "    else:\n",
    "        author = None\n",
    "    return date, time, author, message\n",
    "\n",
    "parsedData = [] # List to keep track of data so it can be used by a Pandas dataframe\n",
    "conversationPath = 'Chats_m.txt' \n",
    "with open(conversationPath, encoding=\"utf-8\") as fp:\n",
    "    fp.readline() # Skipping first line of the file (usually contains information about end-to-end encryption)\n",
    "        \n",
    "    messageBuffer = [] # Buffer to capture intermediate output for multi-line messages\n",
    "    date, time, author = None, None, None # Intermediate variables to keep track of the current message being processed\n",
    "    \n",
    "    while True:\n",
    "        line = fp.readline() \n",
    "        if not line: # Stop reading further if end of file has been reached\n",
    "            break\n",
    "        line = line.strip() # Guarding against erroneous leading and trailing whitespaces\n",
    "        if startsWithDate(line): # If a line starts with a Date Time pattern, then this indicates the beginning of a new message\n",
    "            if len(messageBuffer) > 0: # Check if the message buffer contains characters from previous iterations\n",
    "                parsedData.append([date, time, author, ' '.join(messageBuffer)]) # Save the tokens from the previous message in parsedData\n",
    "            messageBuffer.clear() # Clear the message buffer so that it can be used for the next message\n",
    "            date, time, author, message = getDataPoint(line) # Identify and extract tokens from the line\n",
    "            messageBuffer.append(message) # Append message to buffer\n",
    "        else:\n",
    "            messageBuffer.append(line)"
   ]
  },
  {
   "cell_type": "code",
   "execution_count": null,
   "metadata": {},
   "outputs": [],
   "source": [
    "with open('message_1.json') as jsonfile:\n",
    "    data = json.load(jsonfile)"
   ]
  },
  {
   "cell_type": "code",
   "execution_count": null,
   "metadata": {},
   "outputs": [],
   "source": [
    "with open('message_2.json') as jsonfile:\n",
    "    data2 = json.load(jsonfile)"
   ]
  },
  {
   "cell_type": "code",
   "execution_count": null,
   "metadata": {},
   "outputs": [],
   "source": [
    "with open('message_3.json') as jsonfile:\n",
    "    data3 = json.load(jsonfile)"
   ]
  },
  {
   "cell_type": "code",
   "execution_count": null,
   "metadata": {},
   "outputs": [],
   "source": [
    "with open('message_4.json') as jsonfile:\n",
    "    data4 = json.load(jsonfile)"
   ]
  },
  {
   "cell_type": "code",
   "execution_count": null,
   "metadata": {},
   "outputs": [],
   "source": [
    "print(len(data['messages']),len(data2['messages']),len(data3['messages']),len(data4['messages']))"
   ]
  },
  {
   "cell_type": "code",
   "execution_count": null,
   "metadata": {},
   "outputs": [],
   "source": [
    "Author = []\n",
    "Message = []\n",
    "for i in range(0,len(data['messages'])):\n",
    "    try:\n",
    "        Author.append(data['messages'][i]['sender_name'])\n",
    "        Message.append(data['messages'][i]['content'])\n",
    "    except KeyError:\n",
    "        Message.append('None')\n",
    "for i in range(0,len(data2['messages'])):\n",
    "    try:\n",
    "        Author.append(data2['messages'][i]['sender_name'])\n",
    "        Message.append(data2['messages'][i]['content'])\n",
    "    except KeyError:\n",
    "        Message.append('None')\n",
    "for i in range(0,len(data3['messages'])):\n",
    "    try:\n",
    "        Author.append(data3['messages'][i]['sender_name'])\n",
    "        Message.append(data3['messages'][i]['content'])\n",
    "    except KeyError:\n",
    "        Message.append('None')\n",
    "for i in range(0,len(data4['messages'])):\n",
    "    try:\n",
    "        Author.append(data4['messages'][i]['sender_name'])\n",
    "        Message.append(data4['messages'][i]['content'])\n",
    "    except KeyError:\n",
    "        Message.append('None')"
   ]
  },
  {
   "cell_type": "code",
   "execution_count": null,
   "metadata": {},
   "outputs": [],
   "source": [
    "len(Author)"
   ]
  },
  {
   "cell_type": "code",
   "execution_count": null,
   "metadata": {},
   "outputs": [],
   "source": [
    "len(Message)"
   ]
  },
  {
   "cell_type": "code",
   "execution_count": null,
   "metadata": {},
   "outputs": [],
   "source": [
    "df1 = pd.DataFrame({'Author':Author,'Message':Message})\n",
    "df1.head()"
   ]
  },
  {
   "cell_type": "code",
   "execution_count": null,
   "metadata": {},
   "outputs": [],
   "source": [
    "emj_dict = {':)':'\\U0001F642',\n",
    "            ':*':'\\U0001F618',\n",
    "            ':-*':'\\U0001F618',\n",
    "            ':p':'\\U0001F61C',\n",
    "            ':-p':'\\U0001F61C',\n",
    "            ':P':'\\U0001F61C',\n",
    "            ':-P':'\\U0001F61C',\n",
    "            ':D':'\\U0001F600',\n",
    "            ':-D':'\\U0001F600',\n",
    "            ':(':'\\U0001F614',\n",
    "            ':-(':'\\U0001F614',\n",
    "            ':\\'(':'\\U0001F62D',\n",
    "            ':-\\'(':'\\U0001F62D'}"
   ]
  },
  {
   "cell_type": "code",
   "execution_count": null,
   "metadata": {},
   "outputs": [],
   "source": [
    "df1['Message'] = df1['Message'].apply(lambda x : x.lower())\n",
    "df1.head()"
   ]
  },
  {
   "cell_type": "code",
   "execution_count": null,
   "metadata": {},
   "outputs": [],
   "source": [
    "df1['Text'] = df1['Message'].apply(lambda x : re.sub(r'[^a-zA-Z0-9\\s]','',x).strip().replace('\\n',' '))\n",
    "df1['Emoji'] = df1['Message'].apply(lambda x : ''.join(emoji.emojize(emj_dict[c]) for c in x.split(' ') if c in emj_dict))\n",
    "df1.head()"
   ]
  },
  {
   "cell_type": "code",
   "execution_count": null,
   "metadata": {},
   "outputs": [],
   "source": [
    "# adding letter count and word count in new column\n",
    "df1['Letter_Count'] = df1['Text'].apply(lambda s : len(s))\n",
    "df1['Word_Count'] = df1['Text'].apply(lambda s : len(s.split(' ')))\n",
    "df1.head()"
   ]
  },
  {
   "cell_type": "code",
   "execution_count": null,
   "metadata": {},
   "outputs": [],
   "source": [
    "df1['Author'] = df1['Author'].apply(lambda x : x.replace('Naushad Alam','Naushad').replace('Nirbhay Singh','Nirbhay'))\n",
    "df1.head()"
   ]
  },
  {
   "cell_type": "code",
   "execution_count": null,
   "metadata": {},
   "outputs": [],
   "source": [
    "df = pd.DataFrame(parsedData, columns=['Date', 'Time', 'Author', 'Message'])\n",
    "df.head()"
   ]
  },
  {
   "cell_type": "code",
   "execution_count": null,
   "metadata": {},
   "outputs": [],
   "source": [
    "# checking anyone hasn't sent any message in group\n",
    "null_authors_df = df[df['Author'].isnull()]\n",
    "null_authors_df.head()"
   ]
  },
  {
   "cell_type": "code",
   "execution_count": null,
   "metadata": {},
   "outputs": [],
   "source": [
    "# checking media messages\n",
    "media_messages_df = df[df['Message'] == '<Media omitted>']\n",
    "print(media_messages_df.head())"
   ]
  },
  {
   "cell_type": "code",
   "execution_count": null,
   "metadata": {},
   "outputs": [],
   "source": [
    "# dropping null and media message\n",
    "messages_df = df.drop(null_authors_df.index) # Drops all rows of the data frame containing messages from null authors\n",
    "messages_df = messages_df.drop(media_messages_df.index) # Drops all rows of the data frame containing media messages\n",
    "messages_df.head()"
   ]
  },
  {
   "cell_type": "code",
   "execution_count": null,
   "metadata": {},
   "outputs": [],
   "source": [
    "messages_df['Text'] = messages_df['Message'].apply(lambda x : re.sub(r'[^a-zA-Z0-9\\s]','',x.encode('ascii', 'ignore').decode('ascii')).lower().strip()) # extracting text\n",
    "messages_df['Emoji'] = messages_df['Message'].apply(lambda x : ''.join(c for c in x if c in emoji.UNICODE_EMOJI)) # extracting emoji\n",
    "messages_df.head()"
   ]
  },
  {
   "cell_type": "code",
   "execution_count": null,
   "metadata": {},
   "outputs": [],
   "source": [
    "# adding letter count and word count in new column\n",
    "messages_df['Letter_Count'] = messages_df['Text'].apply(lambda s : len(s))\n",
    "messages_df['Word_Count'] = messages_df['Text'].apply(lambda s : len(s.split(' ')))\n",
    "messages_df.head()"
   ]
  },
  {
   "cell_type": "code",
   "execution_count": null,
   "metadata": {},
   "outputs": [],
   "source": [
    "# adding hour column\n",
    "\n",
    "messages_df['Hour'] = messages_df['Time'].apply(lambda x : x.split(':')[0]) # The first token of a value in the Time Column contains the hour (Eg., \"20\" in \"20:15\")\n",
    "messages_df.head()"
   ]
  },
  {
   "cell_type": "code",
   "execution_count": null,
   "metadata": {},
   "outputs": [],
   "source": [
    "print(messages_df.shape, df1.shape)"
   ]
  },
  {
   "cell_type": "code",
   "execution_count": null,
   "metadata": {},
   "outputs": [],
   "source": [
    "df_final = messages_df.append(df1, sort=False)"
   ]
  },
  {
   "cell_type": "code",
   "execution_count": null,
   "metadata": {},
   "outputs": [],
   "source": [
    "df_final.head()"
   ]
  },
  {
   "cell_type": "code",
   "execution_count": null,
   "metadata": {},
   "outputs": [],
   "source": [
    "df_final.shape"
   ]
  },
  {
   "cell_type": "code",
   "execution_count": null,
   "metadata": {},
   "outputs": [],
   "source": [
    "df_final[25000:]"
   ]
  },
  {
   "cell_type": "code",
   "execution_count": null,
   "metadata": {},
   "outputs": [],
   "source": [
    "emj = {\"Naushad\":[],\"Nirbhay\":[]}\n",
    "for i,j in zip(df_final.Emoji,df_final.Author):\n",
    "        if i in emoji.UNICODE_EMOJI and j == \"Naushad\" :\n",
    "            emj[\"Naushad\"].append(i)\n",
    "        elif i in emoji.UNICODE_EMOJI and j == \"Nirbhay\":\n",
    "            emj[\"Nirbhay\"].append(i)\n",
    "print(\"Naushad sent {} emoji and Nirbhay sent {} emoji\".format(len(emj[\"Naushad\"]),len(emj[\"Nirbhay\"])))\n",
    "\n",
    "emj_df = pd.DataFrame(emj.items(), columns = ['Author','Emoji'])\n",
    "emj_df.head()\n",
    "#list_emj = sorted(emj.items()) # sorted by key, return a list of tuples\n",
    "\n",
    "#x_emj, y_emj = zip(*list_emj) # unpack a list of pairs into two tuples"
   ]
  },
  {
   "cell_type": "code",
   "execution_count": null,
   "metadata": {},
   "outputs": [],
   "source": [
    "media_count = {\"Naushad\":0,\"Nirbhay\":0}\n",
    "\n",
    "for i,j in zip(df.Message,df.Author):\n",
    "        if i == \"<Media omitted>\" and j == \"Naushad\" :\n",
    "            media_count[\"Naushad\"] += 1\n",
    "        elif i == \"<Media omitted>\" and j == \"Nirbhay\":\n",
    "            media_count[\"Nirbhay\"] += 1\n",
    "\n",
    "lists = sorted(media_count.items()) # sorted by key, return a list of tuples\n",
    "\n",
    "x, y = zip(*lists) # unpack a list of pairs into two tuples\n",
    "\n",
    "plt.bar(x, y)\n",
    "plt.xlabel(\"Authors\")\n",
    "plt.ylabel(\"Media Sent\")\n",
    "plt.show()"
   ]
  },
  {
   "cell_type": "code",
   "execution_count": null,
   "metadata": {},
   "outputs": [],
   "source": [
    "filler1 = 'a b c' # filler words with spaces\n",
    "filler2 = 'd e f'\n",
    "filler3 = 'x y z'\n",
    "fillers = list(filler1.split(' ')) + list(filler2.split(' ')) + list(filler3.split(' ')) + ['\\r','']\n",
    "print(fillers)"
   ]
  },
  {
   "cell_type": "code",
   "execution_count": null,
   "metadata": {},
   "outputs": [],
   "source": [
    "def word_cloud(text):\n",
    "    stop_words = fillers\n",
    "    \n",
    "    mask = np.array(Image.open(\"sample.jpg\"))\n",
    "    \n",
    "    wc = WordCloud(background_color = \"black\",\n",
    "                   stopwords = stop_words,\n",
    "                   mask = mask,\n",
    "                   max_words = 200,\n",
    "                   width=1920,\n",
    "                   height=1200)\n",
    "    wc.generate(text)\n",
    "    wc.to_file(\"sample.png\")\n",
    "    print(\"PNG file created\")\n",
    "\n",
    "text = \"\".join(df_final['Text']).strip().lower()\n",
    "#print(text)\n",
    "word_cloud(text)"
   ]
  },
  {
   "cell_type": "code",
   "execution_count": null,
   "metadata": {},
   "outputs": [],
   "source": [
    "def count_words(df):\n",
    "    word_count = {}\n",
    "    for i in df.Text:\n",
    "        try:\n",
    "            x = i.split(\" \")\n",
    "        except:\n",
    "            pass\n",
    "        for word in x:\n",
    "            if word in emoji.UNICODE_EMOJI:\n",
    "                continue\n",
    "            elif word in fillers:\n",
    "                continue\n",
    "            elif word in ['<media','omitted>']:\n",
    "                continue\n",
    "            elif word in ['this','message','was','deleted','']:\n",
    "                continue\n",
    "            elif word in word_count:\n",
    "                word_count[word] += 1\n",
    "            else:\n",
    "                word_count[word] = 1\n",
    "    return word_count\n",
    "\n",
    "cnt_wrd = count_words(df_final)\n",
    "words_df = pd.DataFrame(cnt_wrd.items(), columns = ['Word','Count'])\n",
    "words_df.head()\n",
    "#messages_df['Emoji'] = messages_df['Message'].apply(lambda s : len(s.split('')))\n",
    "#messages_df.head()"
   ]
  },
  {
   "cell_type": "code",
   "execution_count": null,
   "metadata": {},
   "outputs": [],
   "source": [
    "words_df.sort_values(by = 'Count', ascending = False, inplace = True)\n",
    "words_df.head(50)"
   ]
  },
  {
   "cell_type": "code",
   "execution_count": null,
   "metadata": {},
   "outputs": [],
   "source": [
    "%matplotlib inline\n",
    "words_df[words_df['Count']>1500].plot(x='Word', kind = 'bar')"
   ]
  },
  {
   "cell_type": "code",
   "execution_count": null,
   "metadata": {},
   "outputs": [],
   "source": [
    "# checking discrete values\n",
    "discrete_columns = ['Date', 'Time', 'Author', 'Message']\n",
    "messages_df[discrete_columns].describe()"
   ]
  },
  {
   "cell_type": "code",
   "execution_count": null,
   "metadata": {},
   "outputs": [],
   "source": [
    "# checking continuos values\n",
    "continuous_columns = ['Letter_Count', 'Word_Count']\n",
    "messages_df[continuous_columns].describe()"
   ]
  },
  {
   "cell_type": "code",
   "execution_count": null,
   "metadata": {},
   "outputs": [],
   "source": [
    "# Total number of word count and letter count sent\n",
    "messages_df['Letter_Count'].sum(), messages_df['Word_Count'].sum()"
   ]
  },
  {
   "cell_type": "code",
   "execution_count": null,
   "metadata": {},
   "outputs": [],
   "source": [
    "# Who sent how many words\n",
    "\n",
    "total_word_count_grouped_by_author = messages_df[['Author', 'Word_Count']].groupby('Author').sum()\n",
    "sorted_total_word_count_grouped_by_author = total_word_count_grouped_by_author.sort_values('Word_Count', ascending=False)\n",
    "sorted_total_word_count_grouped_by_author.plot.barh()\n",
    "plt.xlabel('Number of Words')\n",
    "plt.ylabel('Authors')"
   ]
  },
  {
   "cell_type": "code",
   "execution_count": null,
   "metadata": {},
   "outputs": [],
   "source": [
    "# frequency of word count\n",
    "\n",
    "plt.figure(figsize=(15, 2)) # To ensure that the bar plot fits in the output cell of a Jupyter notebook\n",
    "word_count_value_counts = messages_df['Word_Count'].value_counts()\n",
    "top_40_word_count_value_counts = word_count_value_counts.head(40)\n",
    "top_40_word_count_value_counts.plot.bar()\n",
    "plt.xlabel('Word Count')\n",
    "plt.ylabel('Frequency')"
   ]
  },
  {
   "cell_type": "code",
   "execution_count": null,
   "metadata": {},
   "outputs": [],
   "source": [
    "# Who sent how many letters\n",
    "\n",
    "total_letter_count_grouped_by_author = messages_df[['Author', 'Letter_Count']].groupby('Author').sum()\n",
    "sorted_total_letter_count_grouped_by_author = total_letter_count_grouped_by_author.sort_values('Letter_Count', ascending=False)\n",
    "top_10_sorted_total_letter_count_grouped_by_author = sorted_total_letter_count_grouped_by_author.head(10)\n",
    "top_10_sorted_total_letter_count_grouped_by_author.plot.barh()\n",
    "plt.xlabel('Number of Letters')\n",
    "plt.ylabel('Authors')"
   ]
  },
  {
   "cell_type": "code",
   "execution_count": null,
   "metadata": {},
   "outputs": [],
   "source": [
    "# frequency of letter count\n",
    "\n",
    "plt.figure(figsize=(15, 2))\n",
    "letter_count_value_counts = messages_df['Letter_Count'].value_counts()\n",
    "top_40_letter_count_value_counts = letter_count_value_counts.head(40)\n",
    "top_40_letter_count_value_counts.plot.bar()\n",
    "plt.xlabel('Letter count')\n",
    "plt.ylabel('Frequency')"
   ]
  },
  {
   "cell_type": "code",
   "execution_count": null,
   "metadata": {},
   "outputs": [],
   "source": [
    "# which date was most chatty\n",
    "\n",
    "messages_df['Date'].value_counts().head(10).plot.barh() # Top 10 Dates on which the most number of messages were sent\n",
    "plt.xlabel('Number of Messages')\n",
    "plt.ylabel('Date')"
   ]
  },
  {
   "cell_type": "code",
   "execution_count": null,
   "metadata": {},
   "outputs": [],
   "source": [
    "# checking most chatty time\n",
    "\n",
    "messages_df['Time'].value_counts().head(10).plot.barh() # Top 10 Times of the day at which the most number of messages were sent\n",
    "plt.xlabel('Number of messages')\n",
    "plt.ylabel('Time')"
   ]
  },
  {
   "cell_type": "code",
   "execution_count": null,
   "metadata": {},
   "outputs": [],
   "source": [
    "# Which hour was most busy\n",
    "\n",
    "messages_df['Hour'].value_counts().head(10).sort_index(ascending=False).plot.barh() # Top 10 Hours of the day during which the most number of messages were sent\n",
    "plt.xlabel('Number of messages')\n",
    "plt.ylabel('Hour of Day')"
   ]
  }
 ],
 "metadata": {
  "kernelspec": {
   "display_name": "Python 3",
   "language": "python",
   "name": "python3"
  },
  "language_info": {
   "codemirror_mode": {
    "name": "ipython",
    "version": 3
   },
   "file_extension": ".py",
   "mimetype": "text/x-python",
   "name": "python",
   "nbconvert_exporter": "python",
   "pygments_lexer": "ipython3",
   "version": "3.7.3"
  }
 },
 "nbformat": 4,
 "nbformat_minor": 4
}
