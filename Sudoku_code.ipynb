{
 "cells": [
  {
   "cell_type": "code",
   "execution_count": 4,
   "metadata": {},
   "outputs": [
    {
     "name": "stdout",
     "output_type": "stream",
     "text": [
      "Select the size of your sudoku:\n",
      "1. 4x4\n",
      "2. 6x6\n",
      "3. 9x9\n",
      "4. 12x12\n",
      "5. 16x16\n",
      "6. 20x20\n",
      "7. 25x25\n"
     ]
    },
    {
     "name": "stdin",
     "output_type": "stream",
     "text": [
      " 1\n"
     ]
    },
    {
     "name": "stdout",
     "output_type": "stream",
     "text": [
      "Enter row 1 elements with space. Enter 0 if unknown\n"
     ]
    },
    {
     "name": "stdin",
     "output_type": "stream",
     "text": [
      " 2 0 0 3\n"
     ]
    },
    {
     "name": "stdout",
     "output_type": "stream",
     "text": [
      "Enter row 2 elements with space. Enter 0 if unknown\n"
     ]
    },
    {
     "name": "stdin",
     "output_type": "stream",
     "text": [
      " 0 3 4 0\n"
     ]
    },
    {
     "name": "stdout",
     "output_type": "stream",
     "text": [
      "Enter row 3 elements with space. Enter 0 if unknown\n"
     ]
    },
    {
     "name": "stdin",
     "output_type": "stream",
     "text": [
      " 0 1 2 0\n"
     ]
    },
    {
     "name": "stdout",
     "output_type": "stream",
     "text": [
      "Enter row 4 elements with space. Enter 0 if unknown\n"
     ]
    },
    {
     "name": "stdin",
     "output_type": "stream",
     "text": [
      " 4 0 0 0\n"
     ]
    },
    {
     "name": "stdout",
     "output_type": "stream",
     "text": [
      "\n",
      "\n",
      "2 0 |0 3\n",
      "0 3 |4 0\n",
      "--------\n",
      "0 1 |2 0\n",
      "4 0 |0 0\n",
      "\n",
      "Solution is : \n",
      "\n",
      "2 4 |1 3\n",
      "1 3 |4 2\n",
      "--------\n",
      "3 1 |2 4\n",
      "4 2 |3 1\n"
     ]
    }
   ],
   "source": [
    "def entry():\n",
    "    for i in range(row):\n",
    "        print(\"Enter row {} elements with space. Enter 0 if unknown\".format(i+1))\n",
    "        numbers = input().strip().split()\n",
    "        a.append([])\n",
    "        for b in numbers:\n",
    "            a[i].append(int(b))\n",
    "\n",
    "def solve(a):\n",
    "    find = position(a)\n",
    "    if not find: # means puzzle is solved\n",
    "        return True\n",
    "    else:\n",
    "        e_row, e_col = find\n",
    "    \n",
    "    for i in range(1,row+1): # filling numbers from 1 to row+1\n",
    "        if check(a,i,(e_row,e_col)): # check if position is ok to add number\n",
    "            a[e_row][e_col] = i # number added\n",
    "            if solve(a): # again Checking if this was the last position and all added values are correct\n",
    "                return True\n",
    "            a[e_row][e_col] = 0 # if not correct then set this value to zero and backtrack by returning false\n",
    "    return False\n",
    "\n",
    "def check(a,num,pos):\n",
    "    # check row\n",
    "    for i in range(row):\n",
    "        if a[pos[0]][i] == num and pos[1] != i:\n",
    "            return False\n",
    "\n",
    "    # check col\n",
    "    for j in range(col):\n",
    "        if a[j][pos[1]] == num and pos[0] != j:\n",
    "            return False\n",
    "\n",
    "    # check box\n",
    "    box_row = pos[0]//x\n",
    "    box_col = pos[1]//y\n",
    "    for i in range(box_row*x,box_row*x+x): # check row-wise\n",
    "        for j in range(box_col*y,box_col*y+y): # check col-wise\n",
    "            if a[i][j] == num and (i,j) != pos:\n",
    "                return False\n",
    "    return True\n",
    "\n",
    "def puzzle(a):\n",
    "    for i in range(row):\n",
    "        if i % x == 0 and i != 0:\n",
    "            print(\"-\"*(row*2))\n",
    "        for j in range(col):\n",
    "            if j % y == 0 and j != 0:\n",
    "                print(\"|\", end=\"\")\n",
    "            if j == row-1:\n",
    "                print(a[i][j])\n",
    "            else:\n",
    "                print(str(a[i][j]) + \" \",end=\"\")\n",
    "\n",
    "def position(a):\n",
    "    for i in range(row):\n",
    "        for j in range(col):\n",
    "            if a[i][j] == 0:\n",
    "                return (i,j) # return empty row and col position as a tuple\n",
    "    return None\n",
    "\n",
    "a = []\n",
    "\n",
    "def intro():\n",
    "    size = {1:\"4x4\",2:\"6x6\",3:\"9x9\",4:\"12x12\",5:\"16x16\",6:\"20x20\",7:\"25x25\"} # size of sudoku\n",
    "    r_c = {1:4,2:6,3:9,4:12,5:16,6:20,7:25} # to define row and column\n",
    "    border = {4:[2,2],6:[2,3],9:[3,3],12:[3,4],16:[4,4],20:[4,5],25:[5,5]} # to define border for printing\n",
    "    print(\"Select the size of your sudoku:\")\n",
    "    for i in size:\n",
    "        print(\"{}. {}\".format(i,size[i]))\n",
    "    ans = int(input())\n",
    "\n",
    "    if ans in r_c:\n",
    "        row = col = r_c[ans]\n",
    "\n",
    "    if row in border:\n",
    "        z = border[row]\n",
    "        x , y = z[0] , z[1]\n",
    "    \n",
    "    entry()\n",
    "    print(\"\\n\")\n",
    "    puzzle(a)\n",
    "    solve(a)\n",
    "    print(\"\\nSolution is : \\n\")\n",
    "    puzzle(a)\n",
    "\n",
    "intro()"
   ]
  },
  {
   "cell_type": "code",
   "execution_count": 11,
   "metadata": {},
   "outputs": [
    {
     "name": "stdout",
     "output_type": "stream",
     "text": [
      "[[0, 0, 3, 6, 0, 0], [0, 2, 0, 0, 0, 4], [5, 0, 0, 0, 6, 0], [0, 3, 0, 0, 0, 5], [3, 0, 0, 0, 1, 0], [0, 0, 1, 4, 0, 0]]\n",
      "\n",
      "Solution is : \n",
      "\n",
      "[[4, 5, 3, 6, 2, 1], [1, 2, 6, 5, 3, 4], [5, 1, 4, 3, 6, 2], [6, 3, 2, 1, 4, 5], [3, 4, 5, 2, 1, 6], [2, 6, 1, 4, 5, 3]]\n"
     ]
    }
   ],
   "source": [
    "\"\"\"\n",
    "a = []\n",
    "def entry():\n",
    "    for i in range(row):\n",
    "        print(\"Enter row {} elements. Enter 0 if unknown\".format(i+1))\n",
    "        a.append([])\n",
    "        for j in range(col):\n",
    "            a[i].append(int(input()))\n",
    "\"\"\"\n",
    "row = 6\n",
    "col = 6\n",
    "s = [\n",
    "    [0,0,3,6,0,0],\n",
    "    [0,2,0,0,0,4],\n",
    "    [5,0,0,0,6,0],\n",
    "    [0,3,0,0,0,5],\n",
    "    [3,0,0,0,1,0],\n",
    "    [0,0,1,4,0,0]\n",
    "]\n",
    "\n",
    "def solve(a):\n",
    "    find = position(a)\n",
    "    if not find: # means puzzle is solved\n",
    "        return True\n",
    "    else:\n",
    "        e_row, e_col = find\n",
    "    \n",
    "    for i in range(1,row+1): # filling numbers from 1 to row+1\n",
    "        if check(a,i,(e_row,e_col)): # check if position is ok to add number\n",
    "            a[e_row][e_col] = i # number added\n",
    "            if solve(a): # again Checking if this was the last position and all added values are correct\n",
    "                return True\n",
    "            a[e_row][e_col] = 0 # if not correct then set this value to zero and backtrack by returning false\n",
    "    return False\n",
    "\n",
    "def check(a,num,pos):\n",
    "    # check row\n",
    "    for i in range(row):\n",
    "        if a[pos[0]][i] == num and pos[1] != i:\n",
    "            return False\n",
    "\n",
    "    # check col\n",
    "    for j in range(col):\n",
    "        if a[j][pos[1]] == num and pos[0] != j:\n",
    "            return False\n",
    "\n",
    "    # check box\n",
    "    box_row = pos[0]//2\n",
    "    box_col = pos[1]//3\n",
    "    for i in range(box_row*2,box_row*2+2): # check row-wise\n",
    "        for j in range(box_col*3,box_col*3+3): # check col-wise\n",
    "            if a[i][j] == num and (i,j) != pos:\n",
    "                return False\n",
    "    return True\n",
    "\n",
    "def puzzle(a):\n",
    "    for i in range(row):\n",
    "        if i % 2 == 0 and i != 0:\n",
    "            print(\"------------\")\n",
    "        for j in range(col):\n",
    "            if j % 3 == 0 and j != 0:\n",
    "                print(\"|\", end=\"\")\n",
    "            if j == 5:\n",
    "                print(a[i][j])\n",
    "            else:\n",
    "                print(str(a[i][j]) + \" \",end=\"\")\n",
    "\n",
    "def position(a):\n",
    "    for i in range(row):\n",
    "        for j in range(col):\n",
    "            if a[i][j] == 0:\n",
    "                return (i,j) # return empty row and col position as a tuple\n",
    "    return None\n",
    "\n",
    "#entry()\n",
    "#puzzle(s)\n",
    "print(s)\n",
    "solve(s)\n",
    "print(\"\\nSolution is : \\n\")\n",
    "#puzzle(s)\n",
    "print(s)"
   ]
  },
  {
   "cell_type": "code",
   "execution_count": 7,
   "metadata": {},
   "outputs": [
    {
     "data": {
      "text/plain": [
       "[[0, 0, 3, 6, 0, 0],\n",
       " [0, 2, 0, 0, 0, 4],\n",
       " [5, 0, 0, 0, 6, 0],\n",
       " [0, 3, 0, 0, 0, 5],\n",
       " [3, 0, 0, 0, 1, 0],\n",
       " [0, 0, 1, 4, 0, 0]]"
      ]
     },
     "execution_count": 7,
     "metadata": {},
     "output_type": "execute_result"
    }
   ],
   "source": [
    "s = [\n",
    "    [0,0,3,6,0,0],\n",
    "    [0,2,0,0,0,4],\n",
    "    [5,0,0,0,6,0],\n",
    "    [0,3,0,0,0,5],\n",
    "    [3,0,0,0,1,0],\n",
    "    [0,0,1,4,0,0]\n",
    "]\n",
    "s"
   ]
  }
 ],
 "metadata": {
  "kernelspec": {
   "display_name": "Python 3",
   "language": "python",
   "name": "python3"
  },
  "language_info": {
   "codemirror_mode": {
    "name": "ipython",
    "version": 3
   },
   "file_extension": ".py",
   "mimetype": "text/x-python",
   "name": "python",
   "nbconvert_exporter": "python",
   "pygments_lexer": "ipython3",
   "version": "3.7.3"
  }
 },
 "nbformat": 4,
 "nbformat_minor": 4
}
